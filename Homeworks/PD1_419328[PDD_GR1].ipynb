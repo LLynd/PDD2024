{
  "nbformat": 4,
  "nbformat_minor": 0,
  "metadata": {
    "colab": {
      "provenance": []
    },
    "kernelspec": {
      "name": "python3",
      "display_name": "Python 3"
    },
    "language_info": {
      "name": "python"
    }
  },
  "cells": [
    {
      "cell_type": "markdown",
      "source": [
        "## Homework - Exercise 3\n",
        "Your goal is to join two collections by key. One collection (A) is \"big data\" size and has to be processed on many machines and the other one (B) is small enough to fit in memory of a single machine. Implement the join by using RDD with the first collection and a broadcast variable with the second one."
      ],
      "metadata": {
        "id": "cIrL-Ghny_CW"
      }
    },
    {
      "cell_type": "code",
      "source": [
        "#@title PySpark installation and imports\n",
        "\n",
        "!pip install pyspark --quiet\n",
        "!pip install -U -q PyDrive --quiet\n",
        "!apt install openjdk-8-jdk-headless &> /dev/null\n",
        "\n",
        "import os\n",
        "os.environ[\"JAVA_HOME\"] = \"/usr/lib/jvm/java-11-openjdk-amd64\"\n",
        "\n",
        "from pyspark import SparkContext, SparkConf\n",
        "from pyspark.sql import SparkSession"
      ],
      "metadata": {
        "colab": {
          "base_uri": "https://localhost:8080/"
        },
        "cellView": "form",
        "id": "u4rgTq-azER_",
        "outputId": "7c47d32e-320c-4bda-9197-5117fcc5b9eb"
      },
      "execution_count": 1,
      "outputs": [
        {
          "output_type": "stream",
          "name": "stdout",
          "text": [
            "\u001b[2K     \u001b[90m━━━━━━━━━━━━━━━━━━━━━━━━━━━━━━━━━━━━━━━━\u001b[0m \u001b[32m317.0/317.0 MB\u001b[0m \u001b[31m2.6 MB/s\u001b[0m eta \u001b[36m0:00:00\u001b[0m\n",
            "\u001b[?25h  Preparing metadata (setup.py) ... \u001b[?25l\u001b[?25hdone\n",
            "  Building wheel for pyspark (setup.py) ... \u001b[?25l\u001b[?25hdone\n"
          ]
        }
      ]
    },
    {
      "cell_type": "code",
      "execution_count": 2,
      "metadata": {
        "colab": {
          "base_uri": "https://localhost:8080/"
        },
        "cellView": "form",
        "id": "YFxv1H2kyEPo",
        "outputId": "a4087715-bb9d-4e39-bf20-e70bac1e27e1"
      },
      "outputs": [
        {
          "output_type": "stream",
          "name": "stdout",
          "text": [
            "A=[(1, 2), (1, 3), (2, 2)]\n",
            "B=[(2, 4), (3, 4), (3, 5)]\n",
            "AjoinB=[(1, 2, 4), (1, 3, 4), (1, 3, 5), (2, 2, 4)]\n"
          ]
        }
      ],
      "source": [
        "#@title Sample Data\n",
        "A = [(1,2), (1,3), (2,2)]  # A(X,Y)\n",
        "B = [(2,4), (3,4), (3,5)]  # B(Y,Z)\n",
        "AjoinB = [(1,2,4), (1,3,4), (1,3,5), (2,2,4)]  # A(X,Y) join B(Y,Z) on Y\n",
        "\n",
        "print(f\"A={A}\")\n",
        "print(f\"B={B}\")\n",
        "print(f\"AjoinB={AjoinB}\")"
      ]
    },
    {
      "cell_type": "code",
      "source": [
        "#@title Solution\n",
        "conf = SparkConf().set('spark.ui.port', '4050').setAppName(\"mlibs\").setMaster(\"local[*]\")\n",
        "sc = SparkContext.getOrCreate(conf=conf)\n",
        "spark = SparkSession(sc)\n",
        "\n",
        "def broadcast_join(large_rdd, small_list):\n",
        "    small_dict = {}\n",
        "    for key, value in small_list:\n",
        "        if key not in small_dict:\n",
        "            small_dict[key] = []\n",
        "        small_dict[key].append(value)\n",
        "\n",
        "    broadcast_small_dict = sc.broadcast(small_dict)\n",
        "    joined_rdd = large_rdd.flatMap(lambda x: [(x[0], x[1], val) for val in broadcast_small_dict.value.get(x[1], [])])\n",
        "\n",
        "    return joined_rdd\n",
        "\n",
        "A_rdd = sc.parallelize(A) #Parallelize 'big' dataset\n",
        "result_rdd = broadcast_join(A_rdd, B)\n",
        "\n",
        "final_result = result_rdd.collect()\n",
        "print('Result:')\n",
        "print(list(final_result))\n",
        "print('Correct result:')\n",
        "print(AjoinB)\n",
        "\n",
        "sc.stop()"
      ],
      "metadata": {
        "colab": {
          "base_uri": "https://localhost:8080/"
        },
        "id": "E7e4Iw4PzY7i",
        "outputId": "6a45f26e-bc47-4b5d-d900-59311cad8bc5"
      },
      "execution_count": 4,
      "outputs": [
        {
          "output_type": "stream",
          "name": "stdout",
          "text": [
            "Result:\n",
            "[(1, 2, 4), (1, 3, 4), (1, 3, 5), (2, 2, 4)]\n",
            "Correct result:\n",
            "[(1, 2, 4), (1, 3, 4), (1, 3, 5), (2, 2, 4)]\n"
          ]
        }
      ]
    }
  ]
}