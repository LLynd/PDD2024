{
 "cells": [
  {
   "cell_type": "code",
   "execution_count": 1,
   "id": "7621ff99-34b0-4a66-91ae-43f13ec53253",
   "metadata": {},
   "outputs": [],
   "source": [
    "from functions import (create_shingles,\n",
    "                        calculate_accuracy,\n",
    "                        )\n",
    "\n",
    "from preprocess_data_script import preprocess_data_script\n",
    "\n",
    "import os\n",
    "import json\n",
    "\n",
    "import matplotlib.pyplot as plt\n",
    "import numpy as np\n",
    "\n",
    "from pyspark.sql import SparkSession\n",
    "from pyspark.sql import Row\n",
    "from pyspark.sql.functions import col, udf\n",
    "from pyspark.sql.functions import broadcast\n",
    "\n",
    "from pyspark.sql.functions import collect_list, collect_set, array\n",
    "from pyspark.sql.types import ArrayType, StringType\n",
    "from pyspark.ml.feature import MinHashLSH, HashingTF"
   ]
  },
  {
   "cell_type": "code",
   "execution_count": 2,
   "id": "4db23242-959d-4e1c-b16d-e3ebcd962c10",
   "metadata": {},
   "outputs": [],
   "source": [
    "PROJECT_PATH = \"/mnt/c/Users/lniedzwiedzki/Desktop/PDD2024/Proteins_LSH_Project\"\n",
    "SHINGLE = 5\n",
    "BAND = 20\n",
    "ROW = 5"
   ]
  },
  {
   "cell_type": "code",
   "execution_count": 3,
   "id": "6ad444f5-ed84-4bc9-a89b-f1368b749e2a",
   "metadata": {},
   "outputs": [
    {
     "name": "stdout",
     "output_type": "stream",
     "text": [
      "The PySpark 3.5.0 version is running...\n"
     ]
    }
   ],
   "source": [
    "spark = SparkSession.builder \\\n",
    "        .appName(\"LSH-Proteins\") \\\n",
    "        .master(\"spark://spark-master:7077\") \\\n",
    "        .getOrCreate()\n",
    "\n",
    "print(f'The PySpark {spark.version} version is running...')"
   ]
  },
  {
   "cell_type": "code",
   "execution_count": null,
   "id": "87ab4fe3-9109-4cc3-b998-6e54d03bcc17",
   "metadata": {},
   "outputs": [],
   "source": [
    "os.chdir(PROJECT_PATH)\n",
    "\n",
    "df, protein_df, data = preprocess_data_script(spark, PROJECT_PATH)\n",
    "\n",
    "#df = spark.read.parquet(os.path.join(PROJECT_PATH, \"data\", \"df.parquet\"))\n",
    "#protein_df = spark.read.parquet(os.path.join(PROJECT_PATH, \"data\", \"proteins.parquet\"))\n",
    "#data = spark.read.parquet(os.path.join(PROJECT_PATH, \"data\", \"data.parquet\"))"
   ]
  },
  {
   "cell_type": "code",
   "execution_count": 5,
   "id": "7c8152bb-a751-432e-bb52-6525282db6bf",
   "metadata": {},
   "outputs": [
    {
     "name": "stdout",
     "output_type": "stream",
     "text": [
      "+---------------+----------+\n",
      "|        cluster|      name|\n",
      "+---------------+----------+\n",
      "|UniRef50_Q8WZ42|    A2ASS6|\n",
      "|UniRef50_Q8WZ42|  Q8WZ42-8|\n",
      "|UniRef50_Q8WZ42|A0A2J8PRG4|\n",
      "|UniRef50_Q8WZ42|A0A2J8PRH0|\n",
      "|UniRef50_Q8WZ42|A0A2J8VRI6|\n",
      "|UniRef50_Q8WZ42|A0A2J8VRF7|\n",
      "|UniRef50_Q8WZ42|A0A8I5U7Y9|\n",
      "|UniRef50_Q8WZ42|  Q8WZ42-2|\n",
      "|UniRef50_Q8WZ42|A0A0C4DG59|\n",
      "|UniRef50_Q8WZ42|  Q8WZ42-7|\n",
      "|UniRef50_Q8WZ42|A0A2J8PRG6|\n",
      "|UniRef50_Q8WZ42|A0A2J8VRH1|\n",
      "|UniRef50_Q8WZ42|    C0JYZ2|\n",
      "|UniRef50_Q8WZ42| Q8WZ42-11|\n",
      "|UniRef50_Q8WZ42|    H2P803|\n",
      "|UniRef50_Q8WZ42|A0A6P8QXT8|\n",
      "|UniRef50_Q8WZ42|A0A6P8RJ11|\n",
      "|UniRef50_Q8WZ42|A0A8B7X843|\n",
      "|UniRef50_Q8WZ42|A0A091R2T7|\n",
      "|UniRef50_Q8WZ42|A0A7L3SFD7|\n",
      "+---------------+----------+\n",
      "only showing top 20 rows\n",
      "\n"
     ]
    }
   ],
   "source": [
    "df.show()"
   ]
  },
  {
   "cell_type": "code",
   "execution_count": 6,
   "id": "ff9a5eaa-9ad7-426e-91f9-180e106cd257",
   "metadata": {},
   "outputs": [
    {
     "name": "stdout",
     "output_type": "stream",
     "text": [
      "+----------+--------------------+\n",
      "|      name|             protein|\n",
      "+----------+--------------------+\n",
      "|A0A0A0AH17|VSGRPAPVITWSKQGVD...|\n",
      "|A0A0A0AH21|IRGRPTPEVKWGKIDGE...|\n",
      "|A0A0A0AHW1|FRGKPVPNVTWNKPDTD...|\n",
      "|A0A0A0AHW7|IKGRPTPEVKWTKDDVS...|\n",
      "|A0A0A0AIP1|IKGRPEPEVKWEKAEGT...|\n",
      "|A0A0A0AIP6|VRGRPPPKITWSKVGAN...|\n",
      "|A0A0A0AJX3|MVQHVHREFSPPSRLLR...|\n",
      "|A0A0A0AJX7|FRGRPTPDITWSREEGE...|\n",
      "|A0A0A0AJY1|RESDHRAWTPVSYTVTR...|\n",
      "|A0A0A0AL80|GRPVPTAVWSKADANLS...|\n",
      "|A0A0A0AL85|IKGRPAPEVKWTREHGE...|\n",
      "|A0A0A0MRA3|MTTQAPTFTQPLQSVVV...|\n",
      "|A0A0A0MTS7|MTTQAPTFTQPLQSVVV...|\n",
      "|A0A0A1WFI8|VGAICDVFNHTPMCRCP...|\n",
      "|A0A0A1X8D2|TTGACIKANVTITTTTT...|\n",
      "|A0A0A1XJJ6|PSPCGPNSECTATTNGA...|\n",
      "|A0A0A1XKV6|RDPCPGSCGFNAICNVL...|\n",
      "|A0A0C4DG59|AAEAVATGAKEVKQDAD...|\n",
      "|A0A0C5PPG2|KFRDTIVVNAGETFRLE...|\n",
      "|A0A0C5PXW5|SVSLSWTKPEHDGGSKI...|\n",
      "+----------+--------------------+\n",
      "only showing top 20 rows\n",
      "\n"
     ]
    }
   ],
   "source": [
    "protein_df.show()"
   ]
  },
  {
   "cell_type": "code",
   "execution_count": 7,
   "id": "2b967773-1d7b-4c14-8853-918579caef37",
   "metadata": {},
   "outputs": [
    {
     "name": "stdout",
     "output_type": "stream",
     "text": [
      "+---------------+----------+--------------------+\n",
      "|        cluster|      name|             protein|\n",
      "+---------------+----------+--------------------+\n",
      "|UniRef50_Q8WZ42|A0A0C4DG59|AAEAVATGAKEVKQDAD...|\n",
      "|UniRef50_Q8WZ42|A0A0A0AL80|GRPVPTAVWSKADANLS...|\n",
      "|UniRef50_Q8WZ42|A0A0K0N520|SSITVAWGKPIYDGGSE...|\n",
      "|UniRef50_Q8WZ42|A0A0D9RKL7|MTTQAPTFTQPLQSVVV...|\n",
      "|UniRef50_Q8WZ42|A0A0C5PXW5|SVSLSWTKPEHDGGSKI...|\n",
      "|UniRef50_Q8WZ42|A0A0C5PXZ6|MDPKFRDTIVVNAGETF...|\n",
      "|UniRef50_Q8WZ42|A0A0C5Q1Y1|MDPKFRDTIVVNAGETF...|\n",
      "|UniRef50_Q8WZ42|A0A0C5PPG2|KFRDTIVVNAGETFRLE...|\n",
      "|UniRef50_Q8WZ42|A0A0C5QAN6|NAHIVDTTKNSITLAWG...|\n",
      "|UniRef50_Q8WZ42|A0A0K0N5B4|NSITVAWGKPIYDGGSE...|\n",
      "|UniRef50_Q8WZ42|A0A0K0N4T8|NSITVAWGKPIYDGGSE...|\n",
      "|UniRef50_Q8WZ42|A0A0K0N4U3|NSITVAWGKPIYDGGSE...|\n",
      "|UniRef50_Q8WZ42|A0A0C5PZ18|IVVNAGETFRLEADVHG...|\n",
      "|UniRef50_Q8WZ42|A0A0C5PZ22|MDPKFRDTIVVNAGETF...|\n",
      "|UniRef50_Q8WZ42|A0A0C5PXZ0|MDPKFRDTIVVNAGETF...|\n",
      "|UniRef50_Q8WZ42|A0A0C5QAR3|SASLMWEKPEHDGGSRV...|\n",
      "|UniRef50_Q8WZ42|A0A0C5PXW9|KPEHDGGSKIIQYIVEM...|\n",
      "|UniRef50_Q8WZ42|A0A0C5PZ04|SVSLSWTKPEHDGGSKI...|\n",
      "|UniRef50_Q8WZ42|A0A0C5PZ74|DVSQTSASLMWEKPEHD...|\n",
      "|UniRef50_Q8WZ42|A0A0A0MTS7|MTTQAPTFTQPLQSVVV...|\n",
      "+---------------+----------+--------------------+\n",
      "only showing top 20 rows\n",
      "\n"
     ]
    }
   ],
   "source": [
    "data.show()"
   ]
  },
  {
   "cell_type": "code",
   "execution_count": null,
   "id": "9c4c4d14-d127-4ba3-95a6-bf948c38a971",
   "metadata": {},
   "outputs": [],
   "source": [
    "numHashTables = int(BAND * ROW)\n",
    "\n",
    "shingle_udf = udf(lambda protein: create_shingles(protein, k=SHINGLE), ArrayType(StringType()))\n",
    "df = data.withColumn(\"shingles\", shingle_udf(col(\"protein\")))\n",
    "\n",
    "# Convert shingles into feature vectors\n",
    "hashingTF = HashingTF(inputCol=\"shingles\", outputCol=\"features\", numFeatures=10000)\n",
    "featurizedData = hashingTF.transform(df)\n",
    "\n",
    "minHashLSH = MinHashLSH(inputCol=\"features\", outputCol=\"hashes\", numHashTables=numHashTables)\n",
    "model = minHashLSH.fit(featurizedData)\n",
    "result = model.transform(featurizedData)\n",
    "\n",
    "# Perform LSH to find similar items (clusters)\n",
    "lsh_clusters = model.approxSimilarityJoin(result, result, 1.0, distCol=\"distance\") \\\n",
    "    .select(col(\"datasetA.name\").alias(\"nameA\"),\n",
    "            col(\"datasetB.name\").alias(\"nameB\"),\n",
    "            col(\"distance\")) \\\n",
    "    .filter(col(\"nameA\") != col(\"nameB\"))\n",
    "\n",
    "cluster_df = lsh_clusters.groupBy(\"nameA\").agg(collect_list(\"nameB\").alias(\"lsh_cluster\"))\n",
    "\n",
    "# Prepare ground truth and predicted clusters\n",
    "ground_truth_clusters = df.groupBy(\"cluster\").agg(collect_list(\"name\").alias(\"names\")).collect()\n",
    "ground_truth_clusters = {row[\"cluster\"]: row[\"names\"] for row in ground_truth_clusters}\n",
    "\n",
    "predicted_clusters = cluster_df.collect()\n",
    "predicted_clusters = {row[\"nameA\"]: row[\"lsh_cluster\"] for row in predicted_clusters}\n",
    "\n",
    "# Calculate accuracy\n",
    "ground_truth = [ground_truth_clusters[cluster] for cluster in ground_truth_clusters]\n",
    "predicted = [predicted_clusters[name] for name in predicted_clusters]\n",
    "\n",
    "accuracy = calculate_accuracy(ground_truth, predicted)\n",
    "\n",
    "print(f\"Clustering Accuracy: {accuracy}\")\n",
    "cluster_df.show()"
   ]
  },
  {
   "cell_type": "code",
   "execution_count": null,
   "id": "a703bd2f-23e7-4a67-bf8f-e2338d9c6fea",
   "metadata": {},
   "outputs": [],
   "source": [
    "spark.stop()"
   ]
  }
 ],
 "metadata": {
  "kernelspec": {
   "display_name": "Python 3 (ipykernel)",
   "language": "python",
   "name": "python3"
  },
  "language_info": {
   "codemirror_mode": {
    "name": "ipython",
    "version": 3
   },
   "file_extension": ".py",
   "mimetype": "text/x-python",
   "name": "python",
   "nbconvert_exporter": "python",
   "pygments_lexer": "ipython3",
   "version": "3.11.6"
  }
 },
 "nbformat": 4,
 "nbformat_minor": 5
}
